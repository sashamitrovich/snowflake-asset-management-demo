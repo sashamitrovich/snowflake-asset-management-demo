{
 "cells": [
  {
   "cell_type": "markdown",
   "id": "35a0da54",
   "metadata": {},
   "source": [
    "# What You’ll Learn\n",
    "- Query free stock market history data instantly\n",
    "- Run a Python faker function to create 100 synthetic traders\n",
    "-Size up compute to create 3 billion synthetic trades\n",
    "- Insert those trades ordered by trader, symbol, and date so filtered queries are significantly faster\n",
    "- Create a cluster key to future proof that trade table from any non-sorted data\n",
    "- Create a window function to calculate real time trades, cash, and Profit and Loss (PnL)\n",
    "- Query those 3 billion rows with only xsmall compute and 3 second run-time\n",
    "- See Snowflake's 3 caches in action\n",
    "- Database-level Zero Copy Clone to create an instant Dev environment\n",
    "- Time Travel to see and roll back up to 90 days of data\n",
    "- Drop and Undrop Databases and Tables\n",
    "\n",
    "# What You’ll Need\n",
    "A Snowflake account: A free trial on Enterprise Edition will suffice."
   ]
  },
  {
   "cell_type": "code",
   "execution_count": null,
   "id": "3775908f-ca36-4846-8f38-5adca39217f2",
   "metadata": {
    "language": "python",
    "name": "cell1"
   },
   "outputs": [],
   "source": [
    "# Import python packages\n",
    "import streamlit as st\n",
    "# import pandas as pd\n",
    "\n",
    "# We can also use Snowpark for our analyses!\n",
    "from snowflake.snowpark.context import get_active_session\n",
    "session = get_active_session()\n"
   ]
  },
  {
   "cell_type": "markdown",
   "id": "a666f0da-246e-45e3-b27b-8f572459e874",
   "metadata": {
    "collapsed": false,
    "name": "get_marketplace_dataset"
   },
   "source": [
    "- Mount this Share [Cybersyn Financial & Economic Essentials](https://app.snowflake.com/marketplace/listing/GZTSZAS2KF7/cybersyn-financial-economic-essentials) as a database named Financial__Economic_Essentials (Notice 2 underscores after Financial).\n",
    "- Grant the PUBLIC role to access that database.\n",
    "- Click Get"
   ]
  },
  {
   "cell_type": "code",
   "execution_count": null,
   "id": "d9185294-e588-4903-a0e6-a5efe205fec0",
   "metadata": {
    "language": "sql",
    "name": "verify_market_share"
   },
   "outputs": [],
   "source": [
    "--setup\n",
    "    use role finservam_admin;\n",
    "    use warehouse finservam_devops_wh;\n",
    "    use schema finservam.public;\n",
    "\n",
    "--Verify Data Marketplace Share\n",
    "    select *\n",
    "    from Financial__Economic_Essentials.cybersyn.stock_price_timeseries\n",
    "    where ticker = 'SNOW' and variable = 'post-market_close' order by date;\n"
   ]
  },
  {
   "cell_type": "code",
   "execution_count": null,
   "id": "b407a6ad-938f-4203-9381-5113b243b9b0",
   "metadata": {
    "codeCollapsed": false,
    "language": "sql",
    "name": "setup_db_roles"
   },
   "outputs": [],
   "source": [
    "//Create role\n",
    "    use role accountadmin;\n",
    "    create role if not exists finservam_admin comment = 'Ownership of finservam database and demo';\n",
    "\n",
    "    //Create compute\n",
    "    create warehouse if not exists finservam_devops_wh\n",
    "        with warehouse_size = 'xsmall' auto_suspend = 120 initially_suspended = true comment = 'Financial Services DevOps Compute';\n",
    "    create warehouse if not exists xsmall_const_wh\n",
    "        with warehouse_size = 'xsmall' auto_suspend = 60 initially_suspended = true comment = 'Constant so should always be XS and not resized';\n",
    "        \n",
    "\n",
    "\n",
    "//Permissions are granular to meet your requirements\n",
    "    create database if not exists finservam comment = 'Financial Service Asset Management';\n",
    "    \n",
    "    grant ownership on database finservam to role finservam_admin;\n",
    "    grant ownership on schema finservam.public to role finservam_admin;\n",
    "    \n",
    "    grant ownership on warehouse finservam_devops_wh to role finservam_admin;\n",
    "    \n",
    "    grant ownership on warehouse xsmall_const_wh to role sysadmin;\n",
    "    grant monitor, operate, usage on warehouse xsmall_const_wh to role finservam_admin;\n",
    "    \n",
    "    grant role finservam_admin to role sysadmin;\n",
    "\n",
    "    use schema finservam.public;\n",
    "\n",
    "    create schema if not exists transform comment = 'for silver layer transformations in a medallion architecture.  generally not meant for end user visibility';\n",
    "    grant ownership on schema transform to role finservam_admin;\n",
    "\n",
    "    use schema finservam.public;\n",
    "    use warehouse finservam_devops_wh;\n"
   ]
  },
  {
   "cell_type": "code",
   "execution_count": null,
   "id": "1bcd69fd-e78f-42d3-8f23-6eac6cbaf527",
   "metadata": {
    "language": "sql",
    "name": "OK_if_error"
   },
   "outputs": [],
   "source": [
    "use role accountadmin;\n",
    "grant role finservam_admin to role datascientist;"
   ]
  },
  {
   "cell_type": "code",
   "execution_count": null,
   "id": "c52680e4-cf3a-488f-b5f8-41cd9a8cb2ba",
   "metadata": {
    "codeCollapsed": false,
    "language": "sql",
    "name": "data_quality_1"
   },
   "outputs": [],
   "source": [
    "--transform.exclude_symbol\n",
    "    create or replace table transform.exclude_symbol\n",
    "        comment = 'Exclude Symbols that have ever had a price less than 1 cent or greater than $4500'\n",
    "    as\n",
    "        select distinct ticker symbol\n",
    "        from Financial__Economic_Essentials.cybersyn.stock_price_timeseries\n",
    "        where\n",
    "            variable = 'post-market_close'\n",
    "            and primary_exchange_name in ('NASDAQ CAPITAL MARKET', 'NEW YORK STOCK EXCHANGE')\n",
    "            and (value < .01 or value > 4500)\n",
    "        order by 1;\n",
    "\n"
   ]
  },
  {
   "cell_type": "code",
   "execution_count": null,
   "id": "2e9c0c6f-f4fe-421c-9e8c-5384c11822c5",
   "metadata": {
    "language": "sql",
    "name": "data_quality_2"
   },
   "outputs": [],
   "source": [
    "--stock_history\n",
    "    create or replace transient table finservam.public.stock_history\n",
    "        comment = 'Daily closing prices for NASDAQ & NYSE'\n",
    "    as\n",
    "    select\n",
    "        ticker symbol,\n",
    "        date,\n",
    "        value close,\n",
    "        primary_exchange_code exchange,\n",
    "        asset_class\n",
    "    from Financial__Economic_Essentials.cybersyn.stock_price_timeseries k\n",
    "    left outer join transform.exclude_symbol e on e.symbol = k.ticker\n",
    "    where \n",
    "        variable = 'post-market_close'\n",
    "        and primary_exchange_name in ('NASDAQ CAPITAL MARKET', 'NEW YORK STOCK EXCHANGE')\n",
    "    order by symbol, date;\n",
    "    \n",
    "    comment on column stock_history.close is 'security price at the end of the financial market business day';\n"
   ]
  },
  {
   "cell_type": "code",
   "execution_count": null,
   "id": "63855078-4315-4ff8-8973-30e31eb74222",
   "metadata": {
    "language": "sql",
    "name": "python_faker_trader_names"
   },
   "outputs": [],
   "source": [
    "--Python fake function used to generate synthetic traders\n",
    "create or replace function fake_py(locale varchar,provider varchar,parameters variant)\n",
    "returns variant\n",
    "language python\n",
    "volatile\n",
    "runtime_version = '3.8'\n",
    "packages = ('faker','simplejson')\n",
    "handler = 'fake'\n",
    "as\n",
    "$$\n",
    "import simplejson as json\n",
    "from faker import Faker\n",
    "def fake(locale,provider,parameters):\n",
    "  if type(parameters).__name__=='sqlNullWrapper':\n",
    "    parameters = {}\n",
    "  fake = Faker(locale=locale)\n",
    "  return json.loads(json.dumps(fake.format(formatter=provider,**parameters), default=str))\n",
    "$$;\n",
    "\n",
    "    \n",
    "--verify English & Chinese fake names\n",
    "    select fake_py('en_US','name',null)::varchar as FAKE_NAME from table(generator(rowcount => 10));\n",
    "    select fake_py('zh_CN','name',null)::varchar as FAKE_NAME from table(generator(rowcount => 10));\n"
   ]
  },
  {
   "cell_type": "code",
   "execution_count": null,
   "id": "e788d28a-e5e4-40d5-8bae-938c4562f675",
   "metadata": {
    "language": "sql",
    "name": "create_portfolio_managers"
   },
   "outputs": [],
   "source": [
    "--set context\n",
    "    use role finservam_admin; use warehouse finservam_devops_wh; use schema finservam.public;\n",
    "\n",
    "--Set Variables\n",
    "    set limit_trader = 300;        //on xxlarge will create ~3B trades\n",
    "    set limit_pm = $limit_trader / 10;   //Every Portfolio Manager (PM) will have about 10 traders reporting to her.\n",
    "\n",
    "    \n",
    "--Portfolio Manager (PM)\n",
    "    --unique number generator\n",
    "    create or replace sequence pm_id;        \n",
    "    \n",
    "    create or replace transient table pm\n",
    "        comment = 'PM is the Portfolio Manager who manages the traders' as\n",
    "    select\n",
    "        fake_py('en_UK','name',null)::varchar as PM,\n",
    "        pm_id.nextval id\n",
    "    from table(generator(rowcount => $limit_pm));\n"
   ]
  },
  {
   "cell_type": "code",
   "execution_count": null,
   "id": "79e65e0f-fc2c-467d-83d0-136a80a1c46d",
   "metadata": {
    "collapsed": false,
    "language": "python",
    "name": "check_pms"
   },
   "outputs": [],
   "source": [
    "df_pm = session.table('pm')\n",
    "df_pm.show()"
   ]
  },
  {
   "cell_type": "code",
   "execution_count": null,
   "id": "fba8fa11-1c4a-4672-9f65-69750994da58",
   "metadata": {
    "language": "sql",
    "name": "create_traders"
   },
   "outputs": [],
   "source": [
    "--trader\n",
    "--we don't need a transaction but we demo it\n",
    "begin transaction;\n",
    "    create or replace transient table trader \n",
    "        comment = 'Trader with their Portfolio Manager (PM) and trader authorized buying power' as\n",
    "    with cte as\n",
    "    (\n",
    "    select\n",
    "        fake_py('en_US','name',null)::varchar as trader,\n",
    "        uniform(1, $limit_pm, random()) PM_id,                //random function to assign a PM to a trader\n",
    "        uniform(500, 3500, random())::number buying_power    //how much a trader can buy per day\n",
    "    from table(generator(rowcount => $limit_trader))\n",
    "    )\n",
    "    select\n",
    "        t.trader,\n",
    "        pm.pm,\n",
    "        t.buying_power\n",
    "    from cte t\n",
    "    inner join pm on t.pm_id = pm.id\n",
    "    order by 2,1;\n",
    "\n",
    "    comment on column public.trader.PM is 'Portfolio Manager (PM) manages traders';\n",
    "    comment on column public.trader.buying_power is 'Trader is authorized this buying power in each transaction';\n",
    "commit;\n",
    "\n"
   ]
  },
  {
   "cell_type": "code",
   "execution_count": null,
   "id": "990f2812-15e5-4f11-82b2-b28213cccfc2",
   "metadata": {
    "language": "python",
    "name": "check_traders"
   },
   "outputs": [],
   "source": [
    "df_trader=session.table('trader')\n",
    "df_trader.show()"
   ]
  },
  {
   "cell_type": "code",
   "execution_count": null,
   "id": "e305b233-6132-4f2f-9f01-a1a6fcc7dd38",
   "metadata": {
    "language": "sql",
    "name": "create_trades"
   },
   "outputs": [],
   "source": [
    "--create billions of trades where action = buy\n",
    "drop table if exists trade;\n",
    "\n",
    "--size up to save time since we are generating billions of trades\n",
    "alter warehouse finservam_devops_wh set warehouse_size = 'xxxlarge' wait_for_completion = TRUE   enable_query_acceleration = true;\n",
    "\n",
    "--create billions of trades where action = buy\n",
    "create or replace transient table trade\n",
    "    comment = 'trades made and cash used; unique_key: symbol, exchange, date'\n",
    "as\n",
    " select\n",
    "      c.*,\n",
    "      round(buying_power/close,0) num_shares, \n",
    "      close * round(buying_power/close,0) * -1 cash,\n",
    "      t.trader, t.PM\n",
    " from\n",
    " (\n",
    "    select\n",
    "        date, h.symbol, h.exchange, 'buy'::varchar(25) action, close\n",
    "    from stock_history h\n",
    "    where year(date) < 2021\n",
    " ) c\n",
    " full outer join public.trader t\n",
    " order by 8,2,1;--Trader, symbol, date\n",
    "\n",
    "--create billions of trades where action = hold\n",
    "insert into trade\n",
    "--hold action\n",
    " select\n",
    "      c.*,\n",
    "      0 num_shares, \n",
    "      0 cash,\n",
    "      t.trader, t.PM\n",
    " from\n",
    " (\n",
    "    select\n",
    "        date, h.symbol, h.exchange, 'hold'::varchar(25) action, close\n",
    "    from stock_history h\n",
    "    where year(date) >= 2021\n",
    " ) c\n",
    " full outer join public.trader t\n",
    "order by 8,2,1;--Trader, symbol, date\n",
    "\n",
    "--size down immediately save credits\n",
    "alter warehouse finservam_devops_wh suspend;\n",
    "alter warehouse finservam_devops_wh set warehouse_size = 'xsmall';\n"
   ]
  },
  {
   "cell_type": "code",
   "execution_count": null,
   "id": "d5844745-393e-4cea-852e-4f84e93831f1",
   "metadata": {
    "language": "python",
    "name": "check_trades"
   },
   "outputs": [],
   "source": [
    "df_trades = session.table('trade')\n",
    "df_trades.show()"
   ]
  },
  {
   "cell_type": "code",
   "execution_count": null,
   "id": "0de2aca0-fde3-424a-8307-ca5f8e0456b0",
   "metadata": {
    "language": "sql",
    "name": "add_clustering_key"
   },
   "outputs": [],
   "source": [
    "--create clustered key based on what we sorted\n",
    "    alter table trade cluster by (trader, symbol, date);\n",
    "\n",
    "--cluster_by column\n",
    "    show tables like 'trade';"
   ]
  },
  {
   "cell_type": "code",
   "execution_count": null,
   "id": "30cd882e-4673-4063-8f9d-4b2515a9c829",
   "metadata": {
    "language": "sql",
    "name": "create_position"
   },
   "outputs": [],
   "source": [
    "//notice Common-Table Expressions (CTEs) and window functions for real-time number of stock shares, cash used, and Profit and Loss\n",
    "create or replace view public.position\n",
    "(\n",
    "  symbol, exchange, date, trader, pm, num_shares_cumulative, cash_cumulative, close, market_value,\n",
    "  PnL comment 'Profit and Loss: Demonstrate comment on view column'\n",
    ")\n",
    "comment = 'what assets owned; demo Window Function running sum'\n",
    "as\n",
    "with cte as\n",
    "(\n",
    "  select \n",
    "      t.symbol, t.exchange, t.date, trader, pm,\n",
    "      Sum(num_shares) OVER(partition BY t.symbol, t.exchange, trader ORDER BY t.date rows UNBOUNDED PRECEDING ) num_shares_cumulative,\n",
    "      Sum(cash) OVER(partition BY t.symbol, t.exchange, trader ORDER BY t.date rows UNBOUNDED PRECEDING ) cash_cumulative,\n",
    "      s.close\n",
    "  from public.trade t\n",
    "  inner join public.stock_history s on t.symbol = s.symbol and s.date = t.date\n",
    ")\n",
    "select \n",
    "*,\n",
    "num_shares_cumulative * close as market_value, \n",
    "(num_shares_cumulative * close) + cash_cumulative as PnL\n",
    "from cte;\n",
    "\n",
    "\n",
    "--business_date function to get current date used by the business \n",
    "CREATE or replace FUNCTION business_date()\n",
    "  RETURNS date\n",
    "  MEMOIZABLE\n",
    "  AS\n",
    "  $$\n",
    "    select max(date) dt from public.trade\n",
    "  $$;\n"
   ]
  },
  {
   "cell_type": "code",
   "execution_count": null,
   "id": "a2299e0a-7014-47d6-a550-b5f449b1f9c9",
   "metadata": {
    "language": "python",
    "name": "check_position"
   },
   "outputs": [],
   "source": [
    "df_position=session.table('position')\n",
    "df_position.show()"
   ]
  },
  {
   "cell_type": "code",
   "execution_count": null,
   "id": "058219ed-907a-42e9-835d-a83c9ca68d3f",
   "metadata": {
    "language": "sql",
    "name": "data_dictionary"
   },
   "outputs": [],
   "source": [
    "--context\n",
    "use role finservam_admin; use warehouse finservam_devops_wh; use schema finservam.public;\n",
    "alter warehouse finservam_devops_wh set warehouse_size = 'xsmall';\n",
    "\n",
    "--ANSI-Compliant, ie information_schema for data dictionary\n",
    "select table_type object_type, table_name object_name, comment /* JSON */\n",
    "from information_schema.tables\n",
    "where table_schema = 'PUBLIC' and comment is not null\n",
    "    union all\n",
    "select 'COLUMN' object_type, table_name || '.' || column_name object_type, comment\n",
    "from information_schema.columns\n",
    "where table_schema = 'PUBLIC' and comment is not null\n",
    "order by 1,2;"
   ]
  },
  {
   "cell_type": "code",
   "execution_count": null,
   "id": "7719e8f4-2355-4620-b212-a39370e6a842",
   "metadata": {
    "codeCollapsed": false,
    "language": "sql",
    "name": "trade_table"
   },
   "outputs": [],
   "source": [
    "--instant rowcount and metadata\n",
    "show tables like 'trade';"
   ]
  },
  {
   "cell_type": "code",
   "execution_count": null,
   "id": "2feac767-9a7d-4958-8203-a69ef9aaf3bc",
   "metadata": {
    "codeCollapsed": false,
    "language": "sql",
    "name": "trade_table_pretty"
   },
   "outputs": [],
   "source": [
    "--let's format that rowcount\n",
    "set q = last_query_id();\n",
    "select \"rows\", TO_VARCHAR(\"rows\", '999,999,999,999') \"pretty_rowcount\" from table(result_scan($q));"
   ]
  },
  {
   "cell_type": "code",
   "execution_count": null,
   "id": "85cd8632-1a7d-49fb-9809-e9659bc0d0ae",
   "metadata": {
    "codeCollapsed": false,
    "language": "sql",
    "name": "performance_test_1"
   },
   "outputs": [],
   "source": [
    "--test against a random trader\n",
    "set trader = (select top 1 trader from trader sample(1) where trader is not null);\n",
    "\n",
    "//trade - date and quantity of buy, sell, or hold action on assets\n",
    "select * \n",
    "from trade \n",
    "where trader = $trader and symbol = 'CMG'\n",
    "order by date;  \n",
    "\n",
    "//Notice the Solid State Drive (SSD cache) by running this query and - before the Virtual Warehouse suspends - rerun the query but change the date to something after your original date filter.  [Because that data is already in the Compute layer's memory, it doesnt need to pull it from the micro-partitions again]."
   ]
  },
  {
   "cell_type": "code",
   "execution_count": null,
   "id": "097ae8a0-d415-4f39-98ae-ab9c8e3c9c9d",
   "metadata": {
    "codeCollapsed": false,
    "language": "sql",
    "name": "performance_test_2"
   },
   "outputs": [],
   "source": [
    "select * \n",
    "from trade \n",
    "where trader = $trader and symbol = 'SNOW' and action = 'buy' and date >= '2020-10-01'\n",
    "order by date;  "
   ]
  },
  {
   "cell_type": "code",
   "execution_count": null,
   "id": "a086bec2-b50f-4d47-803e-9f67e8c3766a",
   "metadata": {
    "language": "sql",
    "name": "performance_test_3"
   },
   "outputs": [],
   "source": [
    "//Window functions so we only pay storage for trade table while getting real-time calculations\n",
    "select get_ddl('view','position'); \n",
    "\n",
    "//time-series: what are my real-time trades, cash, and PnL?\n",
    "--notice query results cache on 2nd execution\n",
    "select symbol, date, trader, cash_cumulative, num_shares_cumulative, close, market_value, PnL\n",
    "from position where trader = $trader and date = business_date()\n",
    "order by pnl desc;\n"
   ]
  },
  {
   "cell_type": "code",
   "execution_count": null,
   "id": "bfd15d47-0c4c-4f05-a4ca-dc68f5b15584",
   "metadata": {
    "language": "sql",
    "name": "performance_test_4"
   },
   "outputs": [],
   "source": [
    "select symbol, date, trader, cash_cumulative, num_shares_cumulative, close, market_value, PnL\n",
    "from position where symbol = 'COST' and trader = $trader\n",
    "order by date;\n"
   ]
  },
  {
   "cell_type": "code",
   "execution_count": null,
   "id": "9282471e-8d70-4c15-a9a4-c661ddee9bad",
   "metadata": {
    "collapsed": false,
    "language": "sql",
    "name": "cross_join_performance"
   },
   "outputs": [],
   "source": [
    "--metadata cache for count, min, max, etc\n",
    "select count(*) from trade;\n",
    "\n",
    "//Python Faker: ie verify English & Chinese Synthetic names\n",
    "select fake_py('en_US','name',null)::varchar as FAKE_NAME from table(generator(rowcount => 10));\n",
    "select fake_py('zh_CN','name',null)::varchar as FAKE_NAME from table(generator(rowcount => 10));\n",
    "\n",
    "//Cross-Database Joins \n",
    "select *\n",
    "from Financial__Economic_Essentials.cybersyn.stock_price_timeseries s\n",
    "inner join finservam.public.stock_history h on s.ticker = h.symbol and h.date = s.date\n",
    "where s.ticker = 'SNOW' and s.variable = 'post-market_close' and s.date = business_date();\n"
   ]
  }
 ],
 "metadata": {
  "kernelspec": {
   "display_name": "Streamlit Notebook",
   "name": "streamlit"
  }
 },
 "nbformat": 4,
 "nbformat_minor": 5
}
