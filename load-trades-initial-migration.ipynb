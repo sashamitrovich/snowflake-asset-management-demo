{
 "metadata": {
  "kernelspec": {
   "display_name": "Streamlit Notebook",
   "name": "streamlit"
  }
 },
 "nbformat_minor": 5,
 "nbformat": 4,
 "cells": [
  {
   "cell_type": "code",
   "id": "3775908f-ca36-4846-8f38-5adca39217f2",
   "metadata": {
    "language": "python",
    "name": "imports"
   },
   "source": "# We can also use Snowpark for our analyses!\nfrom snowflake.snowpark.context import get_active_session\nsession = get_active_session()",
   "execution_count": null,
   "outputs": []
  },
  {
   "cell_type": "code",
   "id": "b10f86c9-a717-405d-a595-57dc5f7a7bbb",
   "metadata": {
    "language": "sql",
    "name": "create_db",
    "codeCollapsed": false,
    "collapsed": false
   },
   "outputs": [],
   "source": "use role sysadmin;\ncreate database finservam_migration;\ngrant all on database finservam_migration to role finservam_admin;\ngrant all on all schemas in database finservam_migration to role finservam_admin;",
   "execution_count": null
  },
  {
   "cell_type": "markdown",
   "id": "e7c41c0d-e750-4209-8588-84fb1c495120",
   "metadata": {
    "name": "create_stage",
    "collapsed": false
   },
   "source": "Create an Azure stage in the UI"
  },
  {
   "cell_type": "code",
   "id": "d91873d6-eb17-4e23-bae0-d36d76835595",
   "metadata": {
    "language": "sql",
    "name": "check_trades_on_stage",
    "codeCollapsed": false
   },
   "outputs": [],
   "source": "use role finservam_admin;\nls @finservamd/trade;",
   "execution_count": null
  },
  {
   "cell_type": "code",
   "id": "7258261d-7418-408e-87e0-c695e3db7919",
   "metadata": {
    "language": "sql",
    "name": "define_parquet_format"
   },
   "outputs": [],
   "source": "create or replace file format my_parquet_format\n  type = 'parquet'; -- in this case parquet",
   "execution_count": null
  },
  {
   "cell_type": "code",
   "id": "a574484f-3425-4b85-8199-dfc9eae695e1",
   "metadata": {
    "language": "sql",
    "name": "create_trade_table",
    "codeCollapsed": false
   },
   "outputs": [],
   "source": "create or replace table finservam_migration.public.trade\n  using template (\n    select array_agg(object_construct(*))\n      from table(\n        infer_schema(\n          location=>'@finservamd/trades/trades_0_0_0.snappy.parquet',\n          file_format=>'my_parquet_format'\n        )\n      ));",
   "execution_count": null
  },
  {
   "cell_type": "code",
   "id": "066fcf40-8859-4c00-8b16-9cde1d378eb9",
   "metadata": {
    "language": "sql",
    "name": "describe_trade_table",
    "codeCollapsed": false
   },
   "outputs": [],
   "source": "describe table trade;",
   "execution_count": null
  },
  {
   "cell_type": "code",
   "id": "8f6114ee-4105-4a91-afe3-a7632dc0faab",
   "metadata": {
    "language": "sql",
    "name": "query_before_load",
    "codeCollapsed": false
   },
   "outputs": [],
   "source": "select distinct $1:SYMBOL\nfrom @finservamd/trades/trades_0_0_0.snappy.parquet\n(FILE_FORMAT=>'my_parquet_format')\nlimit 10;",
   "execution_count": null
  },
  {
   "cell_type": "code",
   "id": "c81e4968-71b4-4dfb-be32-08471b07dde1",
   "metadata": {
    "language": "sql",
    "name": "LOAD",
    "codeCollapsed": false,
    "collapsed": false
   },
   "outputs": [],
   "source": "use warehouse finservam_devops_wh;\nalter warehouse finservam_devops_wh set warehouse_size = '2x-large' wait_for_completion = TRUE   enable_query_acceleration = true;\n\ncopy into trade\n  from @finservamd/trades/\n  file_format = (type=parquet)\n  match_by_column_name = case_insensitive;\n\n  --size down immediately save credits\nalter warehouse finservam_devops_wh suspend;\nalter warehouse finservam_devops_wh set warehouse_size = 'xsmall';",
   "execution_count": null
  },
  {
   "cell_type": "code",
   "id": "c77eb304-0489-4a26-bfcd-94df66d6349c",
   "metadata": {
    "language": "sql",
    "name": "select_trades",
    "codeCollapsed": false
   },
   "outputs": [],
   "source": "select * from trade limit 10;",
   "execution_count": null
  }
 ]
}