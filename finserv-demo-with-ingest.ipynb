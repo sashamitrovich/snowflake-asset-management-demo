{
 "metadata": {
  "kernelspec": {
   "display_name": "Streamlit Notebook",
   "name": "streamlit"
  }
 },
 "nbformat_minor": 5,
 "nbformat": 4,
 "cells": [
  {
   "cell_type": "code",
   "id": "3775908f-ca36-4846-8f38-5adca39217f2",
   "metadata": {
    "language": "python",
    "name": "cell1",
    "collapsed": false
   },
   "source": "# Import python packages\nimport streamlit as st\n# import pandas as pd\n\n# We can also use Snowpark for our analyses!\nfrom snowflake.snowpark.context import get_active_session\nsession = get_active_session()\n",
   "execution_count": null,
   "outputs": []
  },
  {
   "cell_type": "code",
   "id": "b407a6ad-938f-4203-9381-5113b243b9b0",
   "metadata": {
    "language": "sql",
    "name": "setup_db_roles",
    "codeCollapsed": false
   },
   "outputs": [],
   "source": "//Create role\n    use role accountadmin;\n    create role if not exists finservam_admin comment = 'Ownership of finservam database and demo';\n\n    //Create compute\n    create warehouse if not exists finservam_devops_wh\n        with warehouse_size = 'xsmall' auto_suspend = 120 initially_suspended = true comment = 'Financial Services DevOps Compute';\n    create warehouse if not exists xsmall_const_wh\n        with warehouse_size = 'xsmall' auto_suspend = 60 initially_suspended = true comment = 'Constant so should always be XS and not resized';\n        \n\n\n//Permissions are granular to meet your requirements\n    create database if not exists finservam comment = 'Financial Service Asset Management';\n    \n    grant ownership on database finservam to role finservam_admin;\n    grant ownership on schema finservam.public to role finservam_admin;\n    \n    grant ownership on warehouse finservam_devops_wh to role finservam_admin;\n    \n    grant ownership on warehouse xsmall_const_wh to role sysadmin;\n    grant monitor, operate, usage on warehouse xsmall_const_wh to role finservam_admin;\n    \n    grant role finservam_admin to role sysadmin;\n\n    use schema finservam.public;\n\n    create schema if not exists transform comment = 'for silver layer transformations in a medallion architecture.  generally not meant for end user visibility';\n    grant ownership on schema transform to role finservam_admin;\n\n    use schema finservam.public;\n    use warehouse finservam_devops_wh;\n",
   "execution_count": null
  },
  {
   "cell_type": "markdown",
   "id": "a666f0da-246e-45e3-b27b-8f572459e874",
   "metadata": {
    "name": "get_marketplace_dataset",
    "collapsed": false
   },
   "source": "- Mount this Share [Cybersyn Financial & Economic Essentials](https://app.snowflake.com/marketplace/listing/GZTSZAS2KF7/cybersyn-financial-economic-essentials) as a database named Financial__Economic_Essentials (Notice 2 underscores after Financial).\n- Grant the PUBLIC role to access that database.\n- Click Get"
  },
  {
   "cell_type": "code",
   "id": "d9185294-e588-4903-a0e6-a5efe205fec0",
   "metadata": {
    "language": "sql",
    "name": "verify_market_share"
   },
   "outputs": [],
   "source": "--setup\n    use role finservam_admin;\n    use warehouse finservam_devops_wh;\n    use schema finservam.public;\n\n--Verify Data Marketplace Share\n    select *\n    from Financial__Economic_Essentials.cybersyn.stock_price_timeseries\n    where ticker = 'SNOW' and variable = 'post-market_close' order by date;\n",
   "execution_count": null
  },
  {
   "cell_type": "code",
   "id": "1bcd69fd-e78f-42d3-8f23-6eac6cbaf527",
   "metadata": {
    "language": "sql",
    "name": "OK_if_error",
    "codeCollapsed": false
   },
   "outputs": [],
   "source": "use role accountadmin;\ngrant role finservam_admin to role datascientist;\nuse role finservam_admin;",
   "execution_count": null
  },
  {
   "cell_type": "code",
   "id": "c52680e4-cf3a-488f-b5f8-41cd9a8cb2ba",
   "metadata": {
    "language": "sql",
    "name": "data_quality_1",
    "codeCollapsed": false,
    "collapsed": false
   },
   "outputs": [],
   "source": "--transform.exclude_symbol\n    create or replace table transform.exclude_symbol\n        comment = 'Exclude Symbols that have ever had a price less than 1 cent or greater than $4500'\n    as\n        select distinct ticker symbol\n        from Financial__Economic_Essentials.cybersyn.stock_price_timeseries\n        where\n            variable = 'post-market_close'\n            and primary_exchange_name in ('NASDAQ CAPITAL MARKET', 'NEW YORK STOCK EXCHANGE')\n            and (value < .01 or value > 4500)\n        order by 1;\n\n",
   "execution_count": null
  },
  {
   "cell_type": "code",
   "id": "2e9c0c6f-f4fe-421c-9e8c-5384c11822c5",
   "metadata": {
    "language": "sql",
    "name": "data_quality_2",
    "collapsed": false,
    "codeCollapsed": false
   },
   "outputs": [],
   "source": "--stock_history\n    create or replace transient table finservam.public.stock_history\n        comment = 'Daily closing prices for NASDAQ & NYSE'\n    as\n    select\n        ticker symbol,\n        date,\n        value close,\n        primary_exchange_code exchange,\n        asset_class\n    from Financial__Economic_Essentials.cybersyn.stock_price_timeseries k\n    left outer join transform.exclude_symbol e on e.symbol = k.ticker\n    where \n        variable = 'post-market_close'\n        and primary_exchange_name in ('NASDAQ CAPITAL MARKET', 'NEW YORK STOCK EXCHANGE')\n    order by symbol, date;\n    \n    comment on column stock_history.close is 'security price at the end of the financial market business day';\n",
   "execution_count": null
  },
  {
   "cell_type": "markdown",
   "id": "35763427-53a3-4f42-9eba-c670b13477c4",
   "metadata": {
    "name": "create_stage",
    "collapsed": false
   },
   "source": "Let's create a Stage to load data. \nWe'll call it \"finservam\"."
  },
  {
   "cell_type": "code",
   "id": "44b654b4-227b-4c1a-8edc-2d6f27a35688",
   "metadata": {
    "language": "sql",
    "name": "whats_on_stage",
    "collapsed": false
   },
   "outputs": [],
   "source": "use role accountadmin;\ngrant all on stage finservam.public.finservam to role finservam_admin;\nuse role finservam_admin;\nls @finservam.public.finservam;\n",
   "execution_count": null
  },
  {
   "cell_type": "code",
   "id": "554ee569-1222-4b19-9e5b-59fa398ef4bb",
   "metadata": {
    "language": "sql",
    "name": "load_pms_traders",
    "collapsed": false,
    "codeCollapsed": false
   },
   "outputs": [],
   "source": "use role finservam_admin;\nuse schema finservam.public;\n\ncreate or replace file format my_parquet_format\n  type = 'parquet'; -- in this case parquet\n\n-- create table & load PMs  \n\ncreate or replace table finservam.public.pm\n  using template (\n    select array_agg(object_construct(*))\n      from table(\n        infer_schema(\n          location=>'@finservam.public.finservam/pm/pm_1_0_0.snappy.parquet',\n          file_format=>'my_parquet_format'\n        )\n      ));\n\ncopy into finservam.public.pm\n  from @finservam.public.finservam/pm/\n  file_format = (type=parquet)\n  match_by_column_name = case_insensitive;\n  \n-- create table & load Traders\n\ncreate or replace table finservam.public.trader\n  using template (\n    select array_agg(object_construct(*))\n      from table(\n        infer_schema(\n        location=>'@finservam.public.finservam/trader/trader_0_0_0.snappy.parquet',\n          file_format=>'my_parquet_format'\n        )\n      ));\n\ncopy into finservam.public.trader\n  from @finservam.public.finservam/trader/\n  file_format = (type=parquet)\n  match_by_column_name = case_insensitive;\n  ",
   "execution_count": null
  },
  {
   "cell_type": "code",
   "id": "79e65e0f-fc2c-467d-83d0-136a80a1c46d",
   "metadata": {
    "language": "python",
    "name": "check_pms",
    "collapsed": false,
    "codeCollapsed": false
   },
   "outputs": [],
   "source": "df_pm = session.table('pm')\ndf_pm.show()",
   "execution_count": null
  },
  {
   "cell_type": "code",
   "id": "990f2812-15e5-4f11-82b2-b28213cccfc2",
   "metadata": {
    "language": "python",
    "name": "check_traders",
    "collapsed": false
   },
   "outputs": [],
   "source": "df_trader=session.table('trader')\ndf_trader.show()",
   "execution_count": null
  },
  {
   "cell_type": "code",
   "id": "bde9af3a-c710-4c90-8a19-d4a28a565559",
   "metadata": {
    "language": "sql",
    "name": "load_trades",
    "collapsed": false
   },
   "outputs": [],
   "source": "-- now load 3.2B trades\n\nuse warehouse finservam_devops_wh;\nalter warehouse finservam_devops_wh set warehouse_size = '2x-large' wait_for_completion = TRUE   enable_query_acceleration = true;\n\ncreate or replace table finservam.public.trade\n  using template (\n    select array_agg(object_construct(*))\n      from table(\n        infer_schema(\n          location=>'@finservam.public.finservam/trades/trades_0_0_0.snappy.parquet',\n          file_format=>'my_parquet_format'\n        )\n      ));\n\ncopy into finservam.public.trade\n  from @finservam.public.finservam/trades/\n  file_format = (type=parquet)\n  match_by_column_name = case_insensitive;\n\n  --size down immediately save credits\nalter warehouse finservam_devops_wh suspend;\nalter warehouse finservam_devops_wh set warehouse_size = 'xsmall';",
   "execution_count": null
  },
  {
   "cell_type": "code",
   "id": "d5844745-393e-4cea-852e-4f84e93831f1",
   "metadata": {
    "language": "python",
    "name": "check_trades",
    "collapsed": false
   },
   "outputs": [],
   "source": "df_trades = session.table('trade')\ndf_trades.show()",
   "execution_count": null
  },
  {
   "cell_type": "code",
   "id": "0de2aca0-fde3-424a-8307-ca5f8e0456b0",
   "metadata": {
    "language": "sql",
    "name": "add_clustering_key",
    "collapsed": false
   },
   "outputs": [],
   "source": "--create clustered key based on what we sorted\n    alter table trade cluster by (trader, symbol, date);\n\n--cluster_by column\n    show tables like 'trade';",
   "execution_count": null
  },
  {
   "cell_type": "code",
   "id": "30cd882e-4673-4063-8f9d-4b2515a9c829",
   "metadata": {
    "language": "sql",
    "name": "create_position",
    "collapsed": false
   },
   "outputs": [],
   "source": "//notice Common-Table Expressions (CTEs) and window functions for real-time number of stock shares, cash used, and Profit and Loss\ncreate or replace view public.position\n(\n  symbol, exchange, date, trader, pm, num_shares_cumulative, cash_cumulative, close, market_value,\n  PnL comment 'Profit and Loss: Demonstrate comment on view column'\n)\ncomment = 'what assets owned; demo Window Function running sum'\nas\nwith cte as\n(\n  select \n      t.symbol, t.exchange, t.date, trader, pm,\n      Sum(num_shares) OVER(partition BY t.symbol, t.exchange, trader ORDER BY t.date rows UNBOUNDED PRECEDING ) num_shares_cumulative,\n      Sum(cash) OVER(partition BY t.symbol, t.exchange, trader ORDER BY t.date rows UNBOUNDED PRECEDING ) cash_cumulative,\n      s.close\n  from public.trade t\n  inner join public.stock_history s on t.symbol = s.symbol and s.date = t.date\n)\nselect \n*,\nnum_shares_cumulative * close as market_value, \n(num_shares_cumulative * close) + cash_cumulative as PnL\nfrom cte;\n\n\n--business_date function to get current date used by the business \nCREATE or replace FUNCTION business_date()\n  RETURNS date\n  MEMOIZABLE\n  AS\n  $$\n    select max(date) dt from public.trade\n  $$;\n",
   "execution_count": null
  },
  {
   "cell_type": "code",
   "id": "058219ed-907a-42e9-835d-a83c9ca68d3f",
   "metadata": {
    "language": "sql",
    "name": "data_dictionary",
    "codeCollapsed": false,
    "collapsed": false
   },
   "outputs": [],
   "source": "--context\nuse role finservam_admin; use warehouse finservam_devops_wh; use schema finservam.public;\nalter warehouse finservam_devops_wh set warehouse_size = 'xsmall';\n\n--ANSI-Compliant, ie information_schema for data dictionary\nselect table_type object_type, table_name object_name, comment /* JSON */\nfrom information_schema.tables\nwhere table_schema = 'PUBLIC' and comment is not null\n    union all\nselect 'COLUMN' object_type, table_name || '.' || column_name object_type, comment\nfrom information_schema.columns\nwhere table_schema = 'PUBLIC' and comment is not null\norder by 1,2;",
   "execution_count": null
  },
  {
   "cell_type": "code",
   "id": "7719e8f4-2355-4620-b212-a39370e6a842",
   "metadata": {
    "language": "sql",
    "name": "trade_table",
    "codeCollapsed": false,
    "collapsed": false
   },
   "outputs": [],
   "source": "--instant rowcount and metadata\nshow tables like 'trade';",
   "execution_count": null
  },
  {
   "cell_type": "code",
   "id": "85cd8632-1a7d-49fb-9809-e9659bc0d0ae",
   "metadata": {
    "language": "sql",
    "name": "performance_test_1",
    "codeCollapsed": false,
    "collapsed": false
   },
   "outputs": [],
   "source": "--test against a random trader\nset trader = (select top 1 trader from trader sample(1) where trader is not null);\n\n//trade - date and quantity of buy, sell, or hold action on assets\nselect * \nfrom trade \nwhere trader = $trader and symbol = 'CMG'\norder by date;  ",
   "execution_count": null
  },
  {
   "cell_type": "code",
   "id": "097ae8a0-d415-4f39-98ae-ab9c8e3c9c9d",
   "metadata": {
    "language": "sql",
    "name": "performance_test_2",
    "codeCollapsed": false,
    "collapsed": false
   },
   "outputs": [],
   "source": "select * \nfrom trade \nwhere trader = $trader and symbol = 'SNOW' and action = 'buy' and date >= '2020-10-01'\norder by date;  \n\n//Notice the Solid State Drive (SSD cache) by running this query and - before the Virtual Warehouse suspends - rerun the query but change the date to something after your original date filter.  [Because that data is already in the Compute layer's memory, it doesnt need to pull it from the micro-partitions again].",
   "execution_count": null
  },
  {
   "cell_type": "code",
   "id": "a086bec2-b50f-4d47-803e-9f67e8c3766a",
   "metadata": {
    "language": "sql",
    "name": "performance_test_3",
    "collapsed": false
   },
   "outputs": [],
   "source": "//Window functions so we only pay storage for trade table while getting real-time calculations\nselect get_ddl('view','position'); \n\n//time-series: what are my real-time trades, cash, and PnL?\n--notice query results cache on 2nd execution\nselect symbol, date, trader, cash_cumulative, num_shares_cumulative, close, market_value, PnL\nfrom position where trader = $trader and date = business_date()\norder by pnl desc;\n",
   "execution_count": null
  },
  {
   "cell_type": "code",
   "id": "bfd15d47-0c4c-4f05-a4ca-dc68f5b15584",
   "metadata": {
    "language": "sql",
    "name": "performance_test_4"
   },
   "outputs": [],
   "source": "select symbol, date, trader, cash_cumulative, num_shares_cumulative, close, market_value, PnL\nfrom position where symbol = 'COST' and trader = $trader\norder by date;\n",
   "execution_count": null
  },
  {
   "cell_type": "code",
   "id": "9282471e-8d70-4c15-a9a4-c661ddee9bad",
   "metadata": {
    "language": "sql",
    "name": "cross_join_performance",
    "collapsed": false,
    "codeCollapsed": false
   },
   "outputs": [],
   "source": "--metadata cache for count, min, max, etc\nselect count(*) from trade;\n\n//Python Faker: ie verify English & Chinese Synthetic names\nselect fake_py('en_US','name',null)::varchar as FAKE_NAME from table(generator(rowcount => 10));\nselect fake_py('zh_CN','name',null)::varchar as FAKE_NAME from table(generator(rowcount => 10));\n\n//Cross-Database Joins \nselect *\nfrom Financial__Economic_Essentials.cybersyn.stock_price_timeseries s\ninner join finservam.public.stock_history h on s.ticker = h.symbol and h.date = s.date\nwhere s.ticker = 'SNOW' and s.variable = 'post-market_close' and s.date = business_date();\n",
   "execution_count": null
  }
 ]
}